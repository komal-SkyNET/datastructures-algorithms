{
  "nbformat": 4,
  "nbformat_minor": 0,
  "metadata": {
    "colab": {
      "name": "wandering_robot.ipynb",
      "provenance": [],
      "collapsed_sections": [],
      "authorship_tag": "ABX9TyNNLOw1HrMovkmVnmIyx/xK",
      "include_colab_link": true
    },
    "kernelspec": {
      "name": "python3",
      "display_name": "Python 3"
    }
  },
  "cells": [
    {
      "cell_type": "markdown",
      "metadata": {
        "id": "view-in-github",
        "colab_type": "text"
      },
      "source": [
        "<a href=\"https://colab.research.google.com/github/komal-SkyNET/datastructures-algorithms/blob/master/code_challenges/wandering_robot.ipynb\" target=\"_parent\"><img src=\"https://colab.research.google.com/assets/colab-badge.svg\" alt=\"Open In Colab\"/></a>"
      ]
    },
    {
      "cell_type": "code",
      "metadata": {
        "id": "qJn_kodycU_5",
        "colab_type": "code",
        "colab": {}
      },
      "source": [
        "import numpy as np"
      ],
      "execution_count": 0,
      "outputs": []
    },
    {
      "cell_type": "code",
      "metadata": {
        "id": "y2n6vnEnmjO7",
        "colab_type": "code",
        "colab": {}
      },
      "source": [
        "W,H = 1,10\n",
        "L,U = 1,3\n",
        "R,D = 1,5"
      ],
      "execution_count": 0,
      "outputs": []
    },
    {
      "cell_type": "code",
      "metadata": {
        "id": "-ZRt9DLYcYAJ",
        "colab_type": "code",
        "colab": {}
      },
      "source": [
        "a = np.zeros((H,W))\n",
        "if a.shape[0] > 1:\n",
        "  a[1,0] = 0.5\n",
        "elif a.shape[1] > 1:\n",
        "  a[0,1] = 0.5"
      ],
      "execution_count": 0,
      "outputs": []
    },
    {
      "cell_type": "code",
      "metadata": {
        "id": "zy0Jr1cDcfCk",
        "colab_type": "code",
        "colab": {}
      },
      "source": [
        "for i in range(U-1,D):\n",
        "  np.put(a[i], [j for j in range(L-1, R)], -1)"
      ],
      "execution_count": 0,
      "outputs": []
    },
    {
      "cell_type": "code",
      "metadata": {
        "id": "jYXFlO5df2S-",
        "colab_type": "code",
        "colab": {
          "base_uri": "https://localhost:8080/",
          "height": 187
        },
        "outputId": "1a30507f-8252-4c3b-8682-d9f26844d2b9"
      },
      "source": [
        "a"
      ],
      "execution_count": 115,
      "outputs": [
        {
          "output_type": "execute_result",
          "data": {
            "text/plain": [
              "array([[ 0. ],\n",
              "       [ 0.5],\n",
              "       [-1. ],\n",
              "       [-1. ],\n",
              "       [-1. ],\n",
              "       [ 0. ],\n",
              "       [ 0. ],\n",
              "       [ 0. ],\n",
              "       [ 0. ],\n",
              "       [ 0. ]])"
            ]
          },
          "metadata": {
            "tags": []
          },
          "execution_count": 115
        }
      ]
    },
    {
      "cell_type": "code",
      "metadata": {
        "id": "EBfhTcvCf4ve",
        "colab_type": "code",
        "colab": {
          "base_uri": "https://localhost:8080/",
          "height": 34
        },
        "outputId": "b21b2778-3084-4df3-85bf-59cdbd280772"
      },
      "source": [
        "(m,n) = a.shape\n",
        "m,n\n"
      ],
      "execution_count": 116,
      "outputs": [
        {
          "output_type": "execute_result",
          "data": {
            "text/plain": [
              "(10, 1)"
            ]
          },
          "metadata": {
            "tags": []
          },
          "execution_count": 116
        }
      ]
    },
    {
      "cell_type": "code",
      "metadata": {
        "id": "MQ1ZLk1Igka3",
        "colab_type": "code",
        "colab": {}
      },
      "source": [
        "for row in range(m):\n",
        "  for col in range(n):\n",
        "    #skip start grid\n",
        "    if row==0 and col==0:\n",
        "      continue\n",
        "    #skip holes\n",
        "    if a[row][col] != -1:\n",
        "      prob = 0.5\n",
        "      if col == n - 1 or row == m - 1:\n",
        "        prob = 1\n",
        "      if row+1 < m:\n",
        "        if a[row+1][col] != - 1:\n",
        "          a[row+1][col] += a[row][col] * prob\n",
        "      if col+1 < n:\n",
        "        if a[row][col+1] != - 1:\n",
        "          a[row][col+1] += a[row][col] * prob"
      ],
      "execution_count": 0,
      "outputs": []
    },
    {
      "cell_type": "code",
      "metadata": {
        "id": "tiWEdOrEi87B",
        "colab_type": "code",
        "colab": {
          "base_uri": "https://localhost:8080/",
          "height": 187
        },
        "outputId": "fc799a51-dadd-44d5-fec3-6480479ad94d"
      },
      "source": [
        "a"
      ],
      "execution_count": 118,
      "outputs": [
        {
          "output_type": "execute_result",
          "data": {
            "text/plain": [
              "array([[ 0. ],\n",
              "       [ 0.5],\n",
              "       [-1. ],\n",
              "       [-1. ],\n",
              "       [-1. ],\n",
              "       [ 0. ],\n",
              "       [ 0. ],\n",
              "       [ 0. ],\n",
              "       [ 0. ],\n",
              "       [ 0. ]])"
            ]
          },
          "metadata": {
            "tags": []
          },
          "execution_count": 118
        }
      ]
    },
    {
      "cell_type": "code",
      "metadata": {
        "id": "uV_MT8ScjBQj",
        "colab_type": "code",
        "colab": {
          "base_uri": "https://localhost:8080/",
          "height": 34
        },
        "outputId": "1e4ffaa8-aa44-4775-fe81-59b17cf7d678"
      },
      "source": [
        "#final step - add prob of grids around to target grid\n",
        "#i.e, a(3,3) = a(3,2) + a(2,3)\n",
        "a[m-1,n-1] = a[m-2][n-1] + a[m-1][n-2]\n",
        "print(f\"Answer: {a[m-1,n-1]}\")"
      ],
      "execution_count": 119,
      "outputs": [
        {
          "output_type": "stream",
          "text": [
            "Answer: 0.0\n"
          ],
          "name": "stdout"
        }
      ]
    },
    {
      "cell_type": "code",
      "metadata": {
        "id": "2RcOf961nzf0",
        "colab_type": "code",
        "colab": {}
      },
      "source": [
        ""
      ],
      "execution_count": 0,
      "outputs": []
    }
  ]
}