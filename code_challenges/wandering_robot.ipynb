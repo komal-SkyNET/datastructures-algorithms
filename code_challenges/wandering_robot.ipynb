{
  "nbformat": 4,
  "nbformat_minor": 0,
  "metadata": {
    "colab": {
      "name": "wandering_robot.ipynb",
      "provenance": [],
      "collapsed_sections": [],
      "authorship_tag": "ABX9TyOYt+CdVBqEVt6iKdv7IFwe",
      "include_colab_link": true
    },
    "kernelspec": {
      "name": "python3",
      "display_name": "Python 3"
    }
  },
  "cells": [
    {
      "cell_type": "markdown",
      "metadata": {
        "id": "view-in-github",
        "colab_type": "text"
      },
      "source": [
        "<a href=\"https://colab.research.google.com/github/komal-SkyNET/datastructures-algorithms/blob/master/code_challenges/wandering_robot.ipynb\" target=\"_parent\"><img src=\"https://colab.research.google.com/assets/colab-badge.svg\" alt=\"Open In Colab\"/></a>"
      ]
    },
    {
      "cell_type": "markdown",
      "metadata": {
        "id": "YRH0M8JlrAUc",
        "colab_type": "text"
      },
      "source": [
        "# Google kickstart code challenge 2020 RoundB Q4 Problem\n",
        "Jemma is competing in a robotics competition. The challenge for today is to build a robot that can navigate around a hole in the arena.\n",
        "\n",
        "The arena is a grid of squares containing W columns (numbered 1 to W from left to right) and H rows (numbered 1 to H from top to bottom). The square in the x-th column and y-th row is denoted (x, y). The robot begins in the top left square (1,1) and must navigate to the bottom right square (W, H).\n",
        "\n",
        "A rectangular subgrid of squares has been cut out of the grid. More specifically, all the squares that are in the rectangle with top-left square (L, U) and bottom-right square (R, D) have been removed.\n",
        "\n",
        "Jemma did not have much time to program her robot, so it follows a very simple algorithm:\n",
        "If the robot is in the rightmost column, it will always move to the square directly below it. Otherwise,\n",
        "If the robot is in the bottommost row, it will always move to the square directly right of it. Otherwise,\n",
        "The robot will randomly choose to either move to the square directly to the right, or to the square directly below it with equal probability.\n",
        "\n",
        "Jemma passes the challenge if her robot avoids falling into the hole and makes it to the square (W, H). What is the probability she passes the challenge?\n",
        "\n",
        "Input\n",
        "The first line of the input gives the number of test cases, T. T test cases follow. Each test case consists of a single line containing W, H, L, U, R and D.\n",
        "\n",
        "Output\n",
        "For each test case, output one line containing Case #x: y, where x is the test case number (starting from 1) and y is a real number between 0 and 1 inclusive, the probability that Jemma passes the challenge.\n",
        "\n",
        "y will be considered correct if it is within an absolute or relative error of 10-5 of the correct answer. See the FAQ for an explanation of what that means, and what formats of real numbers we accept.\n",
        "\n",
        "Limits\n",
        "Time limit: 15 seconds per test set.\n",
        "Memory limit: 1GB.\n",
        "1 ≤ T ≤ 100.\n",
        "1 ≤ U ≤ D ≤ H.\n",
        "1 ≤ L ≤ R ≤ W.\n",
        "Neither the top-left nor bottom-right squares will be missing.\n",
        "\n",
        "Test set 1\n",
        "1 ≤ W ≤ 300.\n",
        "1 ≤ H ≤ 300.\n",
        "\n",
        "Test set 2\n",
        "1 ≤ W ≤ 105.\n",
        "1 ≤ H ≤ 105.\n",
        "```\n",
        "Sample\n",
        "\n",
        "Input\n",
        " \n",
        "4\n",
        "3 3 2 2 2 2\n",
        "5 3 1 2 4 2\n",
        "1 10 1 3 1 5\n",
        "6 4 1 3 3 4\n",
        "\n",
        "Output\n",
        "\n",
        "Case #1: 0.5\n",
        "Case #2: 0.0625\n",
        "Case #3: 0.0\n",
        "Case #4: 0.3125\n",
        "\n",
        "```\n"
      ]
    },
    {
      "cell_type": "code",
      "metadata": {
        "id": "qJn_kodycU_5",
        "colab_type": "code",
        "colab": {}
      },
      "source": [
        "import numpy as np"
      ],
      "execution_count": 0,
      "outputs": []
    },
    {
      "cell_type": "code",
      "metadata": {
        "id": "y2n6vnEnmjO7",
        "colab_type": "code",
        "colab": {}
      },
      "source": [
        "W,H = 6,4\n",
        "L,U = 1,3\n",
        "R,D = 3,4"
      ],
      "execution_count": 0,
      "outputs": []
    },
    {
      "cell_type": "code",
      "metadata": {
        "id": "-ZRt9DLYcYAJ",
        "colab_type": "code",
        "colab": {}
      },
      "source": [
        "a = np.zeros((H,W))\n",
        "if a.shape[0] > 1:\n",
        "  a[1,0] = 0.5\n",
        "if a.shape[1] > 1:\n",
        "  a[0,1] = 0.5"
      ],
      "execution_count": 0,
      "outputs": []
    },
    {
      "cell_type": "code",
      "metadata": {
        "id": "zy0Jr1cDcfCk",
        "colab_type": "code",
        "colab": {}
      },
      "source": [
        "for i in range(U-1,D):\n",
        "  np.put(a[i], [j for j in range(L-1, R)], -1)"
      ],
      "execution_count": 0,
      "outputs": []
    },
    {
      "cell_type": "code",
      "metadata": {
        "id": "jYXFlO5df2S-",
        "colab_type": "code",
        "outputId": "609cded7-2acc-4c28-c254-059604b42841",
        "colab": {
          "base_uri": "https://localhost:8080/",
          "height": 85
        }
      },
      "source": [
        "a"
      ],
      "execution_count": 0,
      "outputs": [
        {
          "output_type": "execute_result",
          "data": {
            "text/plain": [
              "array([[ 0. ,  0.5,  0. ,  0. ,  0. ,  0. ],\n",
              "       [ 0.5,  0. ,  0. ,  0. ,  0. ,  0. ],\n",
              "       [-1. , -1. , -1. ,  0. ,  0. ,  0. ],\n",
              "       [-1. , -1. , -1. ,  0. ,  0. ,  0. ]])"
            ]
          },
          "metadata": {
            "tags": []
          },
          "execution_count": 148
        }
      ]
    },
    {
      "cell_type": "code",
      "metadata": {
        "id": "EBfhTcvCf4ve",
        "colab_type": "code",
        "outputId": "caf7655a-b874-4afe-f009-f063a75a13f7",
        "colab": {
          "base_uri": "https://localhost:8080/",
          "height": 34
        }
      },
      "source": [
        "(m,n) = a.shape\n",
        "m,n\n"
      ],
      "execution_count": 0,
      "outputs": [
        {
          "output_type": "execute_result",
          "data": {
            "text/plain": [
              "(4, 6)"
            ]
          },
          "metadata": {
            "tags": []
          },
          "execution_count": 149
        }
      ]
    },
    {
      "cell_type": "code",
      "metadata": {
        "id": "MQ1ZLk1Igka3",
        "colab_type": "code",
        "colab": {}
      },
      "source": [
        "for row in range(m):\n",
        "  for col in range(n):\n",
        "    #skip start grid\n",
        "    if row==0 and col==0:\n",
        "      continue\n",
        "    #skip holes\n",
        "    if a[row][col] != -1:\n",
        "      prob = 0.5\n",
        "      if col == n - 1 or row == m - 1:\n",
        "        prob = 1\n",
        "      if row+1 < m:\n",
        "        if a[row+1][col] != - 1:\n",
        "          a[row+1][col] += a[row][col] * prob\n",
        "      if col+1 < n:\n",
        "        if a[row][col+1] != - 1:\n",
        "          a[row][col+1] += a[row][col] * prob"
      ],
      "execution_count": 0,
      "outputs": []
    },
    {
      "cell_type": "code",
      "metadata": {
        "id": "tiWEdOrEi87B",
        "colab_type": "code",
        "outputId": "97059a45-04fd-4007-bdd6-25a31356bc77",
        "colab": {
          "base_uri": "https://localhost:8080/",
          "height": 153
        }
      },
      "source": [
        "a"
      ],
      "execution_count": 0,
      "outputs": [
        {
          "output_type": "execute_result",
          "data": {
            "text/plain": [
              "array([[ 0.       ,  0.5      ,  0.25     ,  0.125    ,  0.0625   ,\n",
              "         0.03125  ],\n",
              "       [ 0.5      ,  0.5      ,  0.375    ,  0.25     ,  0.15625  ,\n",
              "         0.109375 ],\n",
              "       [-1.       , -1.       , -1.       ,  0.125    ,  0.140625 ,\n",
              "         0.1796875],\n",
              "       [-1.       , -1.       , -1.       ,  0.0625   ,  0.1328125,\n",
              "         0.3125   ]])"
            ]
          },
          "metadata": {
            "tags": []
          },
          "execution_count": 151
        }
      ]
    },
    {
      "cell_type": "code",
      "metadata": {
        "id": "uV_MT8ScjBQj",
        "colab_type": "code",
        "outputId": "17c8859a-5ccc-404c-cadf-bd5913f47f4c",
        "colab": {
          "base_uri": "https://localhost:8080/",
          "height": 34
        }
      },
      "source": [
        "#final step - add prob of grids around to target grid\n",
        "#i.e, a(3,3) = a(3,2) + a(2,3)\n",
        "a[m-1,n-1] = a[m-2][n-1] + a[m-1][n-2]\n",
        "print(f\"Answer: {a[m-1,n-1]}\")"
      ],
      "execution_count": 0,
      "outputs": [
        {
          "output_type": "stream",
          "text": [
            "Answer: 0.3125\n"
          ],
          "name": "stdout"
        }
      ]
    },
    {
      "cell_type": "code",
      "metadata": {
        "id": "2RcOf961nzf0",
        "colab_type": "code",
        "colab": {}
      },
      "source": [
        ""
      ],
      "execution_count": 0,
      "outputs": []
    }
  ]
}