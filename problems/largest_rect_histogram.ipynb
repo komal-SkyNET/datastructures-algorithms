{
  "nbformat": 4,
  "nbformat_minor": 0,
  "metadata": {
    "colab": {
      "provenance": [],
      "authorship_tag": "ABX9TyPDw95n2SfwWinUP2oPDL15",
      "include_colab_link": true
    },
    "kernelspec": {
      "name": "python3",
      "display_name": "Python 3"
    },
    "language_info": {
      "name": "python"
    }
  },
  "cells": [
    {
      "cell_type": "markdown",
      "metadata": {
        "id": "view-in-github",
        "colab_type": "text"
      },
      "source": [
        "<a href=\"https://colab.research.google.com/github/komal-SkyNET/datastructures-algorithms/blob/master/problems/largest_rect_histogram.ipynb\" target=\"_parent\"><img src=\"https://colab.research.google.com/assets/colab-badge.svg\" alt=\"Open In Colab\"/></a>"
      ]
    },
    {
      "cell_type": "code",
      "source": [
        "class Solution:\n",
        "  def largestRectangleArea(self, heights):\n",
        "    heights.append(-1)\n",
        "    cur_i = 0\n",
        "    cur_val = heights[cur_i]\n",
        "    stack = []\n",
        "    max_area = 0\n",
        "    while cur_i < len(heights):\n",
        "      index_begin_for_area = cur_i\n",
        "      if stack and stack[-1][1] == heights[cur_i]:\n",
        "        cur_i+=1\n",
        "        continue\n",
        "      index_begin_for_area = cur_i\n",
        "      while stack and stack[-1][1] > heights[cur_i]:\n",
        "        stack_i, stack_val = stack.pop()\n",
        "        index_begin_for_area = stack_i\n",
        "        max_area = max(max_area, stack_val * (cur_i - stack_i))\n",
        "      stack.append((index_begin_for_area, heights[cur_i]))\n",
        "    return max_area\n",
        "\n"
      ],
      "metadata": {
        "id": "GQJLLqLyPTH9"
      },
      "execution_count": 26,
      "outputs": []
    },
    {
      "cell_type": "code",
      "source": [
        "s = Solution()\n",
        "s.largestRectangleArea([2,1,2])"
      ],
      "metadata": {
        "colab": {
          "base_uri": "https://localhost:8080/"
        },
        "id": "uFGNad3BPrIy",
        "outputId": "e1694f83-3d91-4203-c042-ca8b3be064dd"
      },
      "execution_count": 27,
      "outputs": [
        {
          "output_type": "execute_result",
          "data": {
            "text/plain": [
              "3"
            ]
          },
          "metadata": {},
          "execution_count": 27
        }
      ]
    }
  ]
}